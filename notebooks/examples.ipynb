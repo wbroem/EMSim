{
 "cells": [
  {
   "cell_type": "markdown",
   "metadata": {},
   "source": [
    "# Examples of how to use this repo to simulate static/dynamic E and B fields through visualizations, also incorporating the affects of special relativity by applying a Lorentz transformation for dynamic E fields."
   ]
  },
  {
   "cell_type": "markdown",
   "metadata": {},
   "source": [
    "### Simulate a static E field example:"
   ]
  },
  {
   "cell_type": "code",
   "execution_count": 1,
   "metadata": {},
   "outputs": [
    {
     "ename": "ImportError",
     "evalue": "attempted relative import with no known parent package",
     "output_type": "error",
     "traceback": [
      "\u001b[0;31m---------------------------------------------------------------------------\u001b[0m",
      "\u001b[0;31mImportError\u001b[0m                               Traceback (most recent call last)",
      "\u001b[1;32m/Users/waderoemer/Desktop/Projects/EMSim/notebooks/examples.ipynb Cell 3\u001b[0m line \u001b[0;36m<cell line: 1>\u001b[0;34m()\u001b[0m\n\u001b[0;32m----> <a href='vscode-notebook-cell:/Users/waderoemer/Desktop/Projects/EMSim/notebooks/examples.ipynb#W2sZmlsZQ%3D%3D?line=0'>1</a>\u001b[0m \u001b[39mfrom\u001b[39;00m \u001b[39m.\u001b[39;00m\u001b[39m.\u001b[39;00m\u001b[39msrc\u001b[39;00m\u001b[39m.\u001b[39;00m\u001b[39mefield\u001b[39;00m \u001b[39mimport\u001b[39;00m PointCharge, PointChargeSystem\n\u001b[1;32m      <a href='vscode-notebook-cell:/Users/waderoemer/Desktop/Projects/EMSim/notebooks/examples.ipynb#W2sZmlsZQ%3D%3D?line=2'>3</a>\u001b[0m charge \u001b[39m=\u001b[39m PointCharge(\u001b[39m0.000003\u001b[39m, loc \u001b[39m=\u001b[39m [\u001b[39m3\u001b[39m,\u001b[39m5\u001b[39m])\n\u001b[1;32m      <a href='vscode-notebook-cell:/Users/waderoemer/Desktop/Projects/EMSim/notebooks/examples.ipynb#W2sZmlsZQ%3D%3D?line=3'>4</a>\u001b[0m charge\u001b[39m.\u001b[39mplot()\n",
      "\u001b[0;31mImportError\u001b[0m: attempted relative import with no known parent package"
     ]
    }
   ],
   "source": [
    "from ..src.efield import PointCharge, PointChargeSystem\n",
    "\n",
    "charge = PointCharge(0.000003, loc = [3,5])\n",
    "charge.plot()\n"
   ]
  },
  {
   "cell_type": "markdown",
   "metadata": {},
   "source": []
  }
 ],
 "metadata": {
  "kernelspec": {
   "display_name": "Python 3",
   "language": "python",
   "name": "python3"
  },
  "language_info": {
   "codemirror_mode": {
    "name": "ipython",
    "version": 3
   },
   "file_extension": ".py",
   "mimetype": "text/x-python",
   "name": "python",
   "nbconvert_exporter": "python",
   "pygments_lexer": "ipython3",
   "version": "3.9.1"
  }
 },
 "nbformat": 4,
 "nbformat_minor": 2
}
